{
 "cells": [
  {
   "cell_type": "code",
   "execution_count": 1,
   "metadata": {
    "collapsed": true
   },
   "outputs": [],
   "source": [
    "import json\n",
    "import datetime\n",
    "import openpyxl as xl"
   ]
  },
  {
   "cell_type": "code",
   "execution_count": 2,
   "metadata": {},
   "outputs": [],
   "source": [
    "data = json.load(open('modified_Data.json'))\n",
    "liwcdata = xl.load_workbook('liwc_Data.xlsx').get_sheet_by_name(name = 'Sheet0')"
   ]
  },
  {
   "cell_type": "code",
   "execution_count": 3,
   "metadata": {},
   "outputs": [
    {
     "name": "stdout",
     "output_type": "stream",
     "text": [
      "3371\n"
     ]
    }
   ],
   "source": []
  },
  {
   "cell_type": "code",
   "execution_count": 4,
   "metadata": {},
   "outputs": [
    {
     "name": "stdout",
     "output_type": "stream",
     "text": [
      "{u'dayofweek': 1, u'picFileName': u'966590693376781_1503626216339890.jpg', u'full_picture': u'https://scontent.xx.fbcdn.net/v/t1.0-9/s720x720/23659719_1404850049613456_2360107075889447422_n.jpg?oh=160b15df738b60c6d8ba952777108cab&oe=5AA17E65', u'likes': 175, u'created_time': 736654, u'message': u'Laura, are you ok???', u'id': u'966590693376781_1503626216339890'}\n"
     ]
    }
   ],
   "source": [
    "i = 5\n",
    "print(data[\"data\"][i])"
   ]
  },
  {
   "cell_type": "code",
   "execution_count": 7,
   "metadata": {},
   "outputs": [
    {
     "ename": "SyntaxError",
     "evalue": "invalid syntax (<ipython-input-7-046ad538c380>, line 2)",
     "output_type": "error",
     "traceback": [
      "\u001b[0;36m  File \u001b[0;32m\"<ipython-input-7-046ad538c380>\"\u001b[0;36m, line \u001b[0;32m2\u001b[0m\n\u001b[0;31m    data[\"data\"][i].pop('full_picture',None)\u001b[0m\n\u001b[0m       ^\u001b[0m\n\u001b[0;31mSyntaxError\u001b[0m\u001b[0;31m:\u001b[0m invalid syntax\n"
     ]
    }
   ],
   "source": [
    "for i in range(len(data['data'])):\n",
    "    data[\"data\"][i].pop('full_picture',None)\n",
    "    data[\"data\"][i].pop('message',None)\n",
    "    if ('picFileName' not in data[\"data\"][i]) :\n",
    "        data[\"data\"][i]['picFileName'] = ''\n",
    "    data[\"data\"][i][\"month\"] = datetime.date.fromordinal(data[\"data\"][i].pop('created_time')).month\n"
   ]
  },
  {
   "cell_type": "code",
   "execution_count": 6,
   "metadata": {},
   "outputs": [
    {
     "name": "stdout",
     "output_type": "stream",
     "text": [
      "{u'dayofweek': 1, u'picFileName': u'966590693376781_1503626216339890.jpg', 'month': 11, u'likes': 175, u'id': u'966590693376781_1503626216339890'}\n"
     ]
    }
   ],
   "source": [
    "print(data[\"data\"][i])"
   ]
  },
  {
   "cell_type": "code",
   "execution_count": null,
   "metadata": {
    "collapsed": true
   },
   "outputs": [],
   "source": []
  }
 ],
 "metadata": {
  "kernelspec": {
   "display_name": "Python 2",
   "language": "python",
   "name": "python2"
  },
  "language_info": {
   "codemirror_mode": {
    "name": "ipython",
    "version": 2
   },
   "file_extension": ".py",
   "mimetype": "text/x-python",
   "name": "python",
   "nbconvert_exporter": "python",
   "pygments_lexer": "ipython2",
   "version": "2.7.13"
  }
 },
 "nbformat": 4,
 "nbformat_minor": 2
}
