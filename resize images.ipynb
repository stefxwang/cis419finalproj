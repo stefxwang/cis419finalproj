{
 "cells": [
  {
   "cell_type": "code",
   "execution_count": 5,
   "metadata": {},
   "outputs": [],
   "source": [
    "from PIL import Image\n",
    "import json"
   ]
  },
  {
   "cell_type": "code",
   "execution_count": null,
   "metadata": {},
   "outputs": [],
   "source": [
    "data = json.load(open('modified_Data.json'))[\"data\"]\n",
    "resizeTo = (256,256)\n",
    "for i in range(len(imageFiles)):\n",
    "    if 'full_picture' in data[i]:\n",
    "        filename = data[i]['id'] + '.jpg'\n",
    "        img = Image.open('Raw Pics/' + filename)\n",
    "        img = img.resize(resizeTo, Image.ANTIALIAS)\n",
    "        img.save(('Resized Pics 256x256/' + filename), \"TIFF\")"
   ]
  },
  {
   "cell_type": "code",
   "execution_count": 8,
   "metadata": {},
   "outputs": [
    {
     "name": "stdout",
     "output_type": "stream",
     "text": [
      "{u'dayofweek': 2, u'picFileName': u'966590693376781_1504379682931210.jpg', u'full_picture': u'https://external.xx.fbcdn.net/safe_image.php?d=AQBG93gvj52HeZXH&url=https%3A%2F%2F2.bp.blogspot.com%2F-D1L6HI6GDQw%2FWhLpUc8wFTI%2FAAAAAAAAAoU%2FcyejBRQGstsdotGBDWQVJamS9L2LHLFDwCLcBGAs%2Fs320%2Fimages.jpeg&_nc_hash=AQCR5If-T06Co9fY', u'likes': 0, u'created_time': 736655, u'message': u'When a rape discussion comes up and you say those bastards should be killed or their penises cut off and thrown to the dogs, you obviously never imagine yourself as one of those bastards right?\\nWell this is where it gets tricky.\\n*more at*\\nhttp://queerlyshrewd.blogspot.com.ng/2017/09/what-is-she-screaming.html?m=1\\n\\n*always visit*\\nqueerlyshrewd.blogspot.com', u'id': u'966590693376781_1504379682931210'}\n"
     ]
    }
   ],
   "source": []
  },
  {
   "cell_type": "code",
   "execution_count": null,
   "metadata": {
    "collapsed": true
   },
   "outputs": [],
   "source": []
  }
 ],
 "metadata": {
  "kernelspec": {
   "display_name": "Python 2",
   "language": "python",
   "name": "python2"
  },
  "language_info": {
   "codemirror_mode": {
    "name": "ipython",
    "version": 2
   },
   "file_extension": ".py",
   "mimetype": "text/x-python",
   "name": "python",
   "nbconvert_exporter": "python",
   "pygments_lexer": "ipython2",
   "version": "2.7.13"
  }
 },
 "nbformat": 4,
 "nbformat_minor": 2
}
