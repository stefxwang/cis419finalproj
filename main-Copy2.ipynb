{
 "cells": [
  {
   "cell_type": "code",
   "execution_count": 1,
   "metadata": {
    "collapsed": true
   },
   "outputs": [],
   "source": [
    "import json\n",
    "from sklearn.neural_network import MLPClassifier\n",
    "from sklearn.preprocessing import StandardScaler\n",
    "from sklearn.preprocessing import Normalizer\n",
    "from sklearn.model_selection import train_test_split\n",
    "from sklearn import metrics\n",
    "from PIL import Image\n",
    "import numpy as np"
   ]
  },
  {
   "cell_type": "code",
   "execution_count": 2,
   "metadata": {},
   "outputs": [],
   "source": [
    "rawdata = json.load(open('modified_Data_1.json'))[\"data\"]\n",
    "liwc_ids = np.genfromtxt('liwc_Data.csv', delimiter=',',usecols=(0),dtype=None).tolist()\n",
    "liwc_data = np.genfromtxt('liwc_Data_noID.csv', delimiter=',')"
   ]
  },
  {
   "cell_type": "code",
   "execution_count": 3,
   "metadata": {
    "collapsed": true
   },
   "outputs": [],
   "source": [
    "rawIds = list()\n",
    "Y = list()\n",
    "'''just removing \"\\xef\\xbb\\xbf\" from the first ID'''\n",
    "liwc_ids[0] = '966590693376781_1502441776458334'"
   ]
  },
  {
   "cell_type": "code",
   "execution_count": 4,
   "metadata": {},
   "outputs": [
    {
     "name": "stdout",
     "output_type": "stream",
     "text": [
      "(3371, 49247)\n"
     ]
    }
   ],
   "source": [
    "'''there are 3371 rows in raw data and 2971 rows, 93 cols with messages (LIWC)\n",
    "from raw data, we need dayofweek, month for X and likes for Y'''\n",
    "picW = 128\n",
    "picH = 128\n",
    "numPixels = picW * picH\n",
    "channels = 3\n",
    "rawX = np.zeros((len(rawdata), 95 + picW*picH*channels))\n",
    "print(rawX.shape)"
   ]
  },
  {
   "cell_type": "code",
   "execution_count": 5,
   "metadata": {},
   "outputs": [],
   "source": [
    "for i in range(len(rawdata)):\n",
    "    postID = rawdata[i]['id']\n",
    "    picFileName = rawdata[i]['picFileName']\n",
    "    rawIds.append(postID)\n",
    "    rawX[i][0] = rawdata[i]['dayofweek']\n",
    "    rawX[i][1] = rawdata[i]['month']\n",
    "    if(postID in liwc_ids) :\n",
    "        rawX[i][2:95] = liwc_data[liwc_ids.index(postID)]\n",
    "    if(picFileName != '') :\n",
    "        img = Image.open('Resized Pics 128x128/'+picFileName).load()\n",
    "        for imgX in range (picW):\n",
    "            for imgY in range (picH):\n",
    "                px = img[imgX, imgY]\n",
    "                if type(px) is int : r = g = b = px\n",
    "                elif len(px) is 3 : r, g, b = px\n",
    "                else : r, g, b, _ = px\n",
    "                baseIdx = 95 + imgX * picH + imgY\n",
    "                rawX[i][baseIdx] = r\n",
    "                rawX[i][baseIdx + numPixels] = g\n",
    "                rawX[i][baseIdx + numPixels + numPixels] = b\n",
    "    if(rawdata[i]['likes'] < 100):\n",
    "        Y.append(0)\n",
    "    else:\n",
    "        Y.append(1)"
   ]
  },
  {
   "cell_type": "code",
   "execution_count": 6,
   "metadata": {
    "scrolled": true
   },
   "outputs": [
    {
     "name": "stdout",
     "output_type": "stream",
     "text": [
      "3371\n",
      "(3371, 49247)\n",
      "3371\n"
     ]
    }
   ],
   "source": [
    "print(len(rawIds))\n",
    "print(rawX.shape)\n",
    "print(len(Y))"
   ]
  },
  {
   "cell_type": "code",
   "execution_count": 9,
   "metadata": {},
   "outputs": [],
   "source": [
    "'''split data'''\n",
    "trainIDs, testIDs, Xtrain, Xtest, ytrain, ytest = train_test_split(rawIds, rawX, Y, test_size=0.2, random_state=420)\n",
    "\n",
    "'''standardize and normalize'''\n",
    "normalizer = Normalizer()\n",
    "scaler = StandardScaler()\n",
    "\n",
    "scaler.fit(Xtrain)\n",
    "normalizer.fit(Xtrain)\n",
    "\n",
    "Xtrain = scaler.transform(Xtrain)\n",
    "Xtrain = normalizer.transform(Xtrain)\n",
    "\n",
    "Xtest = scaler.transform(Xtest)\n",
    "Xtest = normalizer.transform(Xtest)"
   ]
  },
  {
   "cell_type": "code",
   "execution_count": 8,
   "metadata": {
    "collapsed": true
   },
   "outputs": [],
   "source": [
    "mlp = MLPClassifier()\n"
   ]
  },
  {
   "cell_type": "code",
   "execution_count": null,
   "metadata": {
    "collapsed": true
   },
   "outputs": [],
   "source": []
  }
 ],
 "metadata": {
  "kernelspec": {
   "display_name": "Python 2",
   "language": "python",
   "name": "python2"
  },
  "language_info": {
   "codemirror_mode": {
    "name": "ipython",
    "version": 2
   },
   "file_extension": ".py",
   "mimetype": "text/x-python",
   "name": "python",
   "nbconvert_exporter": "python",
   "pygments_lexer": "ipython2",
   "version": "2.7.13"
  }
 },
 "nbformat": 4,
 "nbformat_minor": 2
}
