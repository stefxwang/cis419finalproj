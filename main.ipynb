{
 "cells": [
  {
   "cell_type": "code",
   "execution_count": 1,
   "metadata": {
    "collapsed": true
   },
   "outputs": [],
   "source": [
    "import json\n",
    "from sklearn.neural_network import MLPClassifier\n",
    "from sklearn.preprocessing import StandardScaler\n",
    "from sklearn.preprocessing import Normalizer\n",
    "from sklearn.model_selection import train_test_split\n",
    "import numpy as np"
   ]
  },
  {
   "cell_type": "code",
   "execution_count": 2,
   "metadata": {},
   "outputs": [],
   "source": [
    "rawdata = json.load(open('modified_Data_1.json'))[\"data\"]\n",
    "liwc_ids = np.genfromtxt('liwc_Data.csv', delimiter=',',usecols=(0),dtype=None).tolist()\n",
    "liwc_data = np.genfromtxt('liwc_Data_noID.csv', delimiter=',')"
   ]
  },
  {
   "cell_type": "code",
   "execution_count": 3,
   "metadata": {},
   "outputs": [],
   "source": [
    "rawIds = list()\n",
    "Y = list()\n",
    "'''just removing \"\\xef\\xbb\\xbf\" from the first ID'''\n",
    "liwc_ids[0] = '966590693376781_1502441776458334'"
   ]
  },
  {
   "cell_type": "code",
   "execution_count": 4,
   "metadata": {},
   "outputs": [],
   "source": [
    "'''there are 3371 rows in raw data and 2971 rows, 93 cols with messages (LIWC)\n",
    "from raw data, we need dayofweek, month for X and likes for Y'''\n",
    "rawX = np.zeros((len(rawdata), 95))"
   ]
  },
  {
   "cell_type": "code",
   "execution_count": 5,
   "metadata": {},
   "outputs": [],
   "source": [
    "for i in range(len(rawdata)):\n",
    "    postID = rawdata[i]['id']\n",
    "    rawIds.append(postID)\n",
    "    rawX[i][0] = rawdata[i]['dayofweek']\n",
    "    rawX[i][1] = rawdata[i]['month']\n",
    "    if(postID in liwc_ids) :\n",
    "        rawX[i][2:95] = liwc_data[liwc_ids.index(postID)]\n",
    "    likes = rawdata[i]['likes']\n",
    "    if(likes < 100):\n",
    "        Y.append(0)\n",
    "    else:\n",
    "        Y.append(1)"
   ]
  },
  {
   "cell_type": "code",
   "execution_count": 6,
   "metadata": {},
   "outputs": [
    {
     "name": "stdout",
     "output_type": "stream",
     "text": [
      "(u'966590693376781_1502441776458334', array([  0.  ,  11.  ,   8.  ,  71.61,  99.  ,  74.76,  25.77,   8.  ,\n",
      "         0.  ,  75.  ,  50.  ,  12.5 ,  12.5 ,   0.  ,   0.  ,  12.5 ,\n",
      "         0.  ,   0.  ,   0.  ,  12.5 ,  12.5 ,   0.  ,  12.5 ,  12.5 ,\n",
      "         0.  ,  12.5 ,   0.  ,   0.  ,  12.5 ,  25.  ,   0.  ,   0.  ,\n",
      "         0.  ,   0.  ,   0.  ,   0.  ,   0.  ,  12.5 ,   0.  ,   0.  ,\n",
      "         0.  ,   0.  ,   0.  ,   0.  ,   0.  ,   0.  ,   0.  ,   0.  ,\n",
      "         0.  ,   0.  ,   0.  ,   0.  ,   0.  ,   0.  ,   0.  ,   0.  ,\n",
      "         0.  ,   0.  ,  12.5 ,   0.  ,   0.  ,  12.5 ,   0.  ,   0.  ,\n",
      "         0.  ,   0.  ,   0.  ,  25.  ,   0.  ,  12.5 ,  12.5 ,  12.5 ,\n",
      "         0.  ,   0.  ,   0.  ,   0.  ,   0.  ,   0.  ,   0.  ,   0.  ,\n",
      "         0.  ,   0.  ,   0.  ,  12.5 ,   0.  ,   0.  ,  12.5 ,   0.  ,\n",
      "         0.  ,   0.  ,   0.  ,   0.  ,   0.  ,   0.  ,   0.  ]), 1)\n"
     ]
    }
   ],
   "source": [
    "print(rawIds[0], rawX[0], Y[0])"
   ]
  },
  {
   "cell_type": "code",
   "execution_count": 7,
   "metadata": {},
   "outputs": [],
   "source": [
    "'''split data'''\n",
    "trainIDs, testIDs, Xtrain, Xtest, ytrain, ytest = train_test_split(rawIds, rawX, Y, test_size=0.2, random_state=420)\n",
    "\n",
    "'''standardize and normalize'''\n",
    "normalizer = Normalizer()\n",
    "scaler = StandardScaler()\n",
    "\n",
    "scaler.fit(Xtrain)\n",
    "normalizer.fit(Xtrain)\n",
    "\n",
    "Xtrain = scaler.transform(Xtrain)\n",
    "Xtrain = normalizer.transform(Xtrain)\n",
    "\n",
    "Xtest = scaler.transform(Xtest)\n",
    "Xtest = normalizer.transform(Xtest)\n"
   ]
  },
  {
   "cell_type": "code",
   "execution_count": null,
   "metadata": {},
   "outputs": [],
   "source": [
    "mlp = MLPClassifier()\n"
   ]
  },
  {
   "cell_type": "code",
   "execution_count": null,
   "metadata": {
    "collapsed": true
   },
   "outputs": [],
   "source": []
  }
 ],
 "metadata": {
  "kernelspec": {
   "display_name": "Python 2",
   "language": "python",
   "name": "python2"
  },
  "language_info": {
   "codemirror_mode": {
    "name": "ipython",
    "version": 2
   },
   "file_extension": ".py",
   "mimetype": "text/x-python",
   "name": "python",
   "nbconvert_exporter": "python",
   "pygments_lexer": "ipython2",
   "version": "2.7.13"
  }
 },
 "nbformat": 4,
 "nbformat_minor": 2
}
