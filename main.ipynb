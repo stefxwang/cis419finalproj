{
 "cells": [
  {
   "cell_type": "code",
   "execution_count": 1,
   "metadata": {},
   "outputs": [],
   "source": [
    "import json\n",
    "from sklearn.neural_network import MLPClassifier\n",
    "from sklearn.preprocessing import StandardScaler\n",
    "from sklearn.preprocessing import Normalizer\n",
    "from sklearn.model_selection import train_test_split\n",
    "from sklearn import metrics\n",
    "from PIL import Image\n",
    "import numpy as np"
   ]
  },
  {
   "cell_type": "code",
   "execution_count": 2,
   "metadata": {},
   "outputs": [],
   "source": [
    "rawdata = json.load(open('modified_Data_1.json'))[\"data\"]\n",
    "liwc_ids = np.genfromtxt('liwc_Data.csv', delimiter=',',usecols=(0),dtype=None).tolist()\n",
    "liwc_data = np.genfromtxt('liwc_Data_noID.csv', delimiter=',')"
   ]
  },
  {
   "cell_type": "code",
   "execution_count": 3,
   "metadata": {},
   "outputs": [],
   "source": [
    "rawIds = list()\n",
    "Y = list()\n",
    "'''just removing \"\\xef\\xbb\\xbf\" from the first ID'''\n",
    "liwc_ids[0] = '966590693376781_1502441776458334'"
   ]
  },
  {
   "cell_type": "code",
   "execution_count": 4,
   "metadata": {},
   "outputs": [
    {
     "name": "stdout",
     "output_type": "stream",
     "text": [
      "(3371, 49247)\n"
     ]
    }
   ],
   "source": [
    "'''there are 3371 rows in raw data and 2971 rows, 93 cols with messages (LIWC)\n",
    "from raw data, we need dayofweek, month for X and likes for Y'''\n",
    "picW = 128\n",
    "picH = 128\n",
    "numPixels = picW * picH\n",
    "channels = 3\n",
    "rawX = np.zeros((len(rawdata), 95 + picW*picH*channels))\n",
    "print(rawX.shape)"
   ]
  },
  {
   "cell_type": "code",
   "execution_count": 5,
   "metadata": {},
   "outputs": [],
   "source": [
    "for i in range(len(rawdata)):\n",
    "    postID = rawdata[i]['id']\n",
    "    picFileName = rawdata[i]['picFileName']\n",
    "    rawIds.append(postID)\n",
    "    rawX[i][0] = rawdata[i]['dayofweek']\n",
    "    rawX[i][1] = rawdata[i]['month']\n",
    "    if(postID in liwc_ids) :\n",
    "        rawX[i][2:95] = liwc_data[liwc_ids.index(postID)]\n",
    "    if(picFileName != '') :\n",
    "        img = Image.open('Resized Pics 128x128/'+picFileName).load()\n",
    "        for imgX in range (picW):\n",
    "            for imgY in range (picH):\n",
    "                px = img[imgX, imgY]\n",
    "                if type(px) is int : r = g = b = px\n",
    "                elif len(px) is 3 : r, g, b = px\n",
    "                else : r, g, b, _ = px\n",
    "                baseIdx = 95 + imgX * picH + imgY\n",
    "                rawX[i][baseIdx] = r\n",
    "                rawX[i][baseIdx + numPixels] = g\n",
    "                rawX[i][baseIdx + numPixels + numPixels] = b\n",
    "    if(rawdata[i]['likes'] < 100):\n",
    "        Y.append(0)\n",
    "    else:\n",
    "        Y.append(1)"
   ]
  },
  {
   "cell_type": "code",
   "execution_count": 6,
   "metadata": {
    "scrolled": true
   },
   "outputs": [
    {
     "name": "stdout",
     "output_type": "stream",
     "text": [
      "3371\n",
      "(3371, 49247)\n",
      "3371\n",
      "(3371, 95)\n"
     ]
    }
   ],
   "source": [
    "print(len(rawIds))\n",
    "print(rawX.shape)\n",
    "print(len(Y))\n",
    "print(rawX[:,:95].shape)"
   ]
  },
  {
   "cell_type": "code",
   "execution_count": 7,
   "metadata": {},
   "outputs": [
    {
     "ename": "ValueError",
     "evalue": "Found input variables with inconsistent numbers of samples: [3371, 3371, 95]",
     "output_type": "error",
     "traceback": [
      "\u001b[0;31m---------------------------------------------------------------------------\u001b[0m",
      "\u001b[0;31mValueError\u001b[0m                                Traceback (most recent call last)",
      "\u001b[0;32m<ipython-input-7-8a1ec25f9405>\u001b[0m in \u001b[0;36m<module>\u001b[0;34m()\u001b[0m\n\u001b[1;32m      1\u001b[0m \u001b[0;34m'''split data'''\u001b[0m\u001b[0;34m\u001b[0m\u001b[0m\n\u001b[0;32m----> 2\u001b[0;31m \u001b[0mtrainIDs\u001b[0m\u001b[0;34m,\u001b[0m \u001b[0mtestIDs\u001b[0m\u001b[0;34m,\u001b[0m \u001b[0mXtrain_nonimg\u001b[0m\u001b[0;34m,\u001b[0m \u001b[0mXtest_nonimg\u001b[0m\u001b[0;34m,\u001b[0m \u001b[0mytrain_nonimg\u001b[0m\u001b[0;34m,\u001b[0m \u001b[0mytest_nonimg\u001b[0m \u001b[0;34m=\u001b[0m \u001b[0mtrain_test_split\u001b[0m\u001b[0;34m(\u001b[0m\u001b[0mrawIds\u001b[0m\u001b[0;34m,\u001b[0m \u001b[0mrawX\u001b[0m\u001b[0;34m[\u001b[0m\u001b[0;34m:\u001b[0m\u001b[0;34m,\u001b[0m\u001b[0;34m:\u001b[0m\u001b[0;36m95\u001b[0m\u001b[0;34m]\u001b[0m\u001b[0;34m,\u001b[0m \u001b[0mY\u001b[0m\u001b[0;34m[\u001b[0m\u001b[0;34m:\u001b[0m\u001b[0;36m95\u001b[0m\u001b[0;34m]\u001b[0m\u001b[0;34m,\u001b[0m \u001b[0mtest_size\u001b[0m\u001b[0;34m=\u001b[0m\u001b[0;36m0.2\u001b[0m\u001b[0;34m,\u001b[0m \u001b[0mrandom_state\u001b[0m\u001b[0;34m=\u001b[0m\u001b[0;36m420\u001b[0m\u001b[0;34m)\u001b[0m\u001b[0;34m\u001b[0m\u001b[0m\n\u001b[0m\u001b[1;32m      3\u001b[0m \u001b[0;34m\u001b[0m\u001b[0m\n\u001b[1;32m      4\u001b[0m \u001b[0mtrainIDs\u001b[0m\u001b[0;34m,\u001b[0m \u001b[0mtestIDs\u001b[0m\u001b[0;34m,\u001b[0m \u001b[0mXtrain_img\u001b[0m\u001b[0;34m,\u001b[0m \u001b[0mXtest_img\u001b[0m\u001b[0;34m,\u001b[0m \u001b[0mytrain_img\u001b[0m\u001b[0;34m,\u001b[0m \u001b[0mytest_img\u001b[0m \u001b[0;34m=\u001b[0m \u001b[0mtrain_test_split\u001b[0m\u001b[0;34m(\u001b[0m\u001b[0mrawIds\u001b[0m\u001b[0;34m,\u001b[0m \u001b[0mrawX\u001b[0m\u001b[0;34m[\u001b[0m\u001b[0;34m:\u001b[0m\u001b[0;34m,\u001b[0m\u001b[0;36m95\u001b[0m\u001b[0;34m:\u001b[0m\u001b[0;34m]\u001b[0m\u001b[0;34m,\u001b[0m \u001b[0mY\u001b[0m\u001b[0;34m[\u001b[0m\u001b[0;34m:\u001b[0m\u001b[0;34m,\u001b[0m\u001b[0;36m95\u001b[0m\u001b[0;34m:\u001b[0m\u001b[0;34m]\u001b[0m\u001b[0;34m,\u001b[0m \u001b[0mtest_size\u001b[0m\u001b[0;34m=\u001b[0m\u001b[0;36m0.2\u001b[0m\u001b[0;34m,\u001b[0m \u001b[0mrandom_state\u001b[0m\u001b[0;34m=\u001b[0m\u001b[0;36m420\u001b[0m\u001b[0;34m)\u001b[0m\u001b[0;34m\u001b[0m\u001b[0m\n\u001b[1;32m      5\u001b[0m \u001b[0;34m\u001b[0m\u001b[0m\n",
      "\u001b[0;32m/Library/Frameworks/Python.framework/Versions/2.7/lib/python2.7/site-packages/sklearn/model_selection/_split.pyc\u001b[0m in \u001b[0;36mtrain_test_split\u001b[0;34m(*arrays, **options)\u001b[0m\n\u001b[1;32m   2013\u001b[0m         \u001b[0mtest_size\u001b[0m \u001b[0;34m=\u001b[0m \u001b[0;36m0.25\u001b[0m\u001b[0;34m\u001b[0m\u001b[0m\n\u001b[1;32m   2014\u001b[0m \u001b[0;34m\u001b[0m\u001b[0m\n\u001b[0;32m-> 2015\u001b[0;31m     \u001b[0marrays\u001b[0m \u001b[0;34m=\u001b[0m \u001b[0mindexable\u001b[0m\u001b[0;34m(\u001b[0m\u001b[0;34m*\u001b[0m\u001b[0marrays\u001b[0m\u001b[0;34m)\u001b[0m\u001b[0;34m\u001b[0m\u001b[0m\n\u001b[0m\u001b[1;32m   2016\u001b[0m \u001b[0;34m\u001b[0m\u001b[0m\n\u001b[1;32m   2017\u001b[0m     \u001b[0;32mif\u001b[0m \u001b[0mshuffle\u001b[0m \u001b[0;32mis\u001b[0m \u001b[0mFalse\u001b[0m\u001b[0;34m:\u001b[0m\u001b[0;34m\u001b[0m\u001b[0m\n",
      "\u001b[0;32m/Library/Frameworks/Python.framework/Versions/2.7/lib/python2.7/site-packages/sklearn/utils/validation.pyc\u001b[0m in \u001b[0;36mindexable\u001b[0;34m(*iterables)\u001b[0m\n\u001b[1;32m    196\u001b[0m         \u001b[0;32melse\u001b[0m\u001b[0;34m:\u001b[0m\u001b[0;34m\u001b[0m\u001b[0m\n\u001b[1;32m    197\u001b[0m             \u001b[0mresult\u001b[0m\u001b[0;34m.\u001b[0m\u001b[0mappend\u001b[0m\u001b[0;34m(\u001b[0m\u001b[0mnp\u001b[0m\u001b[0;34m.\u001b[0m\u001b[0marray\u001b[0m\u001b[0;34m(\u001b[0m\u001b[0mX\u001b[0m\u001b[0;34m)\u001b[0m\u001b[0;34m)\u001b[0m\u001b[0;34m\u001b[0m\u001b[0m\n\u001b[0;32m--> 198\u001b[0;31m     \u001b[0mcheck_consistent_length\u001b[0m\u001b[0;34m(\u001b[0m\u001b[0;34m*\u001b[0m\u001b[0mresult\u001b[0m\u001b[0;34m)\u001b[0m\u001b[0;34m\u001b[0m\u001b[0m\n\u001b[0m\u001b[1;32m    199\u001b[0m     \u001b[0;32mreturn\u001b[0m \u001b[0mresult\u001b[0m\u001b[0;34m\u001b[0m\u001b[0m\n\u001b[1;32m    200\u001b[0m \u001b[0;34m\u001b[0m\u001b[0m\n",
      "\u001b[0;32m/Library/Frameworks/Python.framework/Versions/2.7/lib/python2.7/site-packages/sklearn/utils/validation.pyc\u001b[0m in \u001b[0;36mcheck_consistent_length\u001b[0;34m(*arrays)\u001b[0m\n\u001b[1;32m    171\u001b[0m     \u001b[0;32mif\u001b[0m \u001b[0mlen\u001b[0m\u001b[0;34m(\u001b[0m\u001b[0muniques\u001b[0m\u001b[0;34m)\u001b[0m \u001b[0;34m>\u001b[0m \u001b[0;36m1\u001b[0m\u001b[0;34m:\u001b[0m\u001b[0;34m\u001b[0m\u001b[0m\n\u001b[1;32m    172\u001b[0m         raise ValueError(\"Found input variables with inconsistent numbers of\"\n\u001b[0;32m--> 173\u001b[0;31m                          \" samples: %r\" % [int(l) for l in lengths])\n\u001b[0m\u001b[1;32m    174\u001b[0m \u001b[0;34m\u001b[0m\u001b[0m\n\u001b[1;32m    175\u001b[0m \u001b[0;34m\u001b[0m\u001b[0m\n",
      "\u001b[0;31mValueError\u001b[0m: Found input variables with inconsistent numbers of samples: [3371, 3371, 95]"
     ]
    }
   ],
   "source": [
    "'''split data'''\n",
    "trainIDs, testIDs, Xtrain_nonimg, Xtest_nonimg, ytrain_nonimg, ytest_nonimg = train_test_split(rawIds, rawX[:,:95], Y[:95], test_size=0.2, random_state=420)\n",
    "\n",
    "trainIDs, testIDs, Xtrain_img, Xtest_img, ytrain_img, ytest_img = train_test_split(rawIds, rawX[:,95:], Y[:,95:], test_size=0.2, random_state=420)\n",
    "\n",
    "'''standardize and normalize'''\n",
    "normalizer = Normalizer()\n",
    "scaler = StandardScaler()\n",
    "\n",
    "scaler.fit(Xtrain)\n",
    "normalizer.fit(Xtrain)\n",
    "\n",
    "Xtrain = scaler.transform(Xtrain)\n",
    "Xtrain = normalizer.transform(Xtrain)\n",
    "\n",
    "Xtest = scaler.transform(Xtest)\n",
    "Xtest = normalizer.transform(Xtest)"
   ]
  },
  {
   "cell_type": "code",
   "execution_count": null,
   "metadata": {},
   "outputs": [],
   "source": [
    "# Create classifiers\n",
    "clf1 = MLPClassifier(solver='lbfgs', activation='logistic')\n",
    "clf2 = MLPClassifier(solver='lbfgs', activation='logistic')"
   ]
  },
  {
   "cell_type": "code",
   "execution_count": null,
   "metadata": {},
   "outputs": [],
   "source": [
    "#Fit data\n",
    "clf1.fit(Xtrain_nonimg, ytrain_nonimg)\n",
    "clf2.fit(Xtrain_img, ytrain_img)"
   ]
  },
  {
   "cell_type": "code",
   "execution_count": null,
   "metadata": {},
   "outputs": [],
   "source": [
    "#Predict\n",
    "clf1.predict(Xtest_nonimg)\n",
    "clf2.predict(Xtest_img)"
   ]
  },
  {
   "cell_type": "code",
   "execution_count": null,
   "metadata": {},
   "outputs": [],
   "source": []
  },
  {
   "cell_type": "code",
   "execution_count": null,
   "metadata": {},
   "outputs": [],
   "source": []
  }
 ],
 "metadata": {
  "kernelspec": {
   "display_name": "Python 2",
   "language": "python",
   "name": "python2"
  },
  "language_info": {
   "codemirror_mode": {
    "name": "ipython",
    "version": 2
   },
   "file_extension": ".py",
   "mimetype": "text/x-python",
   "name": "python",
   "nbconvert_exporter": "python",
   "pygments_lexer": "ipython2",
   "version": "2.7.10"
  }
 },
 "nbformat": 4,
 "nbformat_minor": 2
}
