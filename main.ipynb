{
 "cells": [
  {
   "cell_type": "code",
   "execution_count": 1,
   "metadata": {},
   "outputs": [],
   "source": [
    "import json\n",
    "from sklearn.neural_network import MLPClassifier\n",
    "from sklearn.ensemble import VotingClassifier\n",
    "from sklearn.preprocessing import StandardScaler\n",
    "from sklearn.preprocessing import Normalizer\n",
    "from sklearn.model_selection import train_test_split\n",
    "from sklearn import metrics\n",
    "from sklearn.metrics import accuracy_score\n",
    "from PIL import Image\n",
    "import numpy as np"
   ]
  },
  {
   "cell_type": "code",
   "execution_count": 2,
   "metadata": {},
   "outputs": [],
   "source": [
    "rawdata = json.load(open('modified_Data_1.json'))[\"data\"]\n",
    "liwc_ids = np.genfromtxt('liwc_Data.csv', delimiter=',',usecols=(0),dtype=None).tolist()\n",
    "liwc_data = np.genfromtxt('liwc_Data_noID.csv', delimiter=',')"
   ]
  },
  {
   "cell_type": "code",
   "execution_count": 3,
   "metadata": {},
   "outputs": [],
   "source": [
    "rawIds = list()\n",
    "Y = list()\n",
    "'''just removing \"\\xef\\xbb\\xbf\" from the first ID'''\n",
    "liwc_ids[0] = '966590693376781_1502441776458334'"
   ]
  },
  {
   "cell_type": "code",
   "execution_count": 4,
   "metadata": {},
   "outputs": [
    {
     "name": "stdout",
     "output_type": "stream",
     "text": [
      "(3371, 49247)\n"
     ]
    }
   ],
   "source": [
    "'''there are 3371 rows in raw data and 2971 rows, 93 cols with messages (LIWC)\n",
    "from raw data, we need dayofweek, month for X and likes for Y'''\n",
    "picW = 128\n",
    "picH = 128\n",
    "numPixels = picW * picH\n",
    "channels = 3\n",
    "rawX = np.zeros((len(rawdata), 95 + picW*picH*channels))\n",
    "print(rawX.shape)"
   ]
  },
  {
   "cell_type": "code",
   "execution_count": 5,
   "metadata": {},
   "outputs": [],
   "source": [
    "for i in range(len(rawdata)):\n",
    "    postID = rawdata[i]['id']\n",
    "    picFileName = rawdata[i]['picFileName']\n",
    "    rawIds.append(postID)\n",
    "    rawX[i][0] = rawdata[i]['dayofweek']\n",
    "    rawX[i][1] = rawdata[i]['month']\n",
    "    if(postID in liwc_ids) :\n",
    "        rawX[i][2:95] = liwc_data[liwc_ids.index(postID)]\n",
    "    if(picFileName != '') :\n",
    "        img = Image.open('Resized Pics 128x128/'+picFileName).load()\n",
    "        for imgX in range (picW):\n",
    "            for imgY in range (picH):\n",
    "                px = img[imgX, imgY]\n",
    "                if type(px) is int : r = g = b = px\n",
    "                elif len(px) is 3 : r, g, b = px\n",
    "                else : r, g, b, _ = px\n",
    "                baseIdx = 95 + imgX * picH + imgY\n",
    "                rawX[i][baseIdx] = r\n",
    "                rawX[i][baseIdx + numPixels] = g\n",
    "                rawX[i][baseIdx + numPixels + numPixels] = b\n",
    "    if(rawdata[i]['likes'] < 100):\n",
    "        Y.append(0)\n",
    "    else:\n",
    "        Y.append(1)"
   ]
  },
  {
   "cell_type": "code",
   "execution_count": 6,
   "metadata": {
    "scrolled": true
   },
   "outputs": [
    {
     "name": "stdout",
     "output_type": "stream",
     "text": [
      "3371\n",
      "(3371, 49247)\n",
      "3371\n",
      "(3371, 95)\n"
     ]
    }
   ],
   "source": [
    "print(len(rawIds))\n",
    "print(rawX.shape)\n",
    "print(len(Y))\n",
    "print(rawX[:,:95].shape)"
   ]
  },
  {
   "cell_type": "code",
   "execution_count": 7,
   "metadata": {},
   "outputs": [],
   "source": [
    "'''split data'''\n",
    "trainIDs, testIDs, Xtrain_nonimg, Xtest_nonimg, ytrain_nonimg, ytest_nonimg = train_test_split(rawIds, rawX[:,:95], Y, test_size=0.2, random_state=420)\n",
    "\n",
    "trainIDs, testIDs, Xtrain_img, Xtest_img, ytrain_img, ytest_img = train_test_split(rawIds, rawX[:,95:], Y, test_size=0.2, random_state=420)\n",
    "\n",
    "'''standardize and normalize'''\n",
    "normalizer1 = Normalizer()\n",
    "scaler1 = StandardScaler()\n",
    "\n",
    "normalizer2 = Normalizer()\n",
    "scaler2 = StandardScaler()\n",
    "\n",
    "scaler1.fit(Xtrain_nonimg)\n",
    "normalizer1.fit(Xtrain_nonimg)\n",
    "scaler2.fit(Xtrain_img)\n",
    "normalizer2.fit(Xtrain_img)\n",
    "\n",
    "Xtrain_nonimg = scaler1.transform(Xtrain_nonimg)\n",
    "Xtrain_nonimg = normalizer1.transform(Xtrain_nonimg)\n",
    "Xtrain_img = scaler2.transform(Xtrain_img)\n",
    "Xtrain_img = normalizer2.transform(Xtrain_img)\n",
    "\n",
    "Xtest_nonimg = scaler1.transform(Xtest_nonimg)\n",
    "Xtest_nonimg = normalizer1.transform(Xtest_nonimg)\n",
    "Xtest_img = scaler2.transform(Xtest_img)\n",
    "Xtest_img = normalizer2.transform(Xtest_img)"
   ]
  },
  {
   "cell_type": "code",
   "execution_count": null,
   "metadata": {},
   "outputs": [],
   "source": [
    "# Create classifiers\n",
    "clf1 = MLPClassifier(solver='lbfgs', activation='logistic')\n",
    "clf2 = MLPClassifier(solver='lbfgs', activation='logistic')"
   ]
  },
  {
   "cell_type": "code",
   "execution_count": null,
   "metadata": {},
   "outputs": [],
   "source": [
    "#Fit data\n",
    "clf1.fit(Xtrain_nonimg, ytrain_nonimg)\n",
    "clf2.fit(Xtrain_img, ytrain_img)"
   ]
  },
  {
   "cell_type": "code",
   "execution_count": null,
   "metadata": {},
   "outputs": [],
   "source": [
    "#Predict\n",
    "ypred_nonimg = clf1.predict(Xtest_nonimg)\n",
    "ypred_img = clf2.predict(Xtest_img)"
   ]
  },
  {
   "cell_type": "code",
   "execution_count": null,
   "metadata": {},
   "outputs": [],
   "source": [
    "#Weight classifiers\n",
    "eclf = VotingClassifier(estimators=[('mlp1', clf1), ('mlp2', clf2)], voting='soft', weights=[441, 1])\n",
    "y_pred = eclf.fit(rawX, y)"
   ]
  },
  {
   "cell_type": "code",
   "execution_count": null,
   "metadata": {},
   "outputs": [],
   "source": [
    "#Test accuracy\n",
    "print(accuracy_score(y, y_pred))"
   ]
  }
 ],
 "metadata": {
  "kernelspec": {
   "display_name": "Python 2",
   "language": "python",
   "name": "python2"
  },
  "language_info": {
   "codemirror_mode": {
    "name": "ipython",
    "version": 2
   },
   "file_extension": ".py",
   "mimetype": "text/x-python",
   "name": "python",
   "nbconvert_exporter": "python",
   "pygments_lexer": "ipython2",
   "version": "2.7.10"
  }
 },
 "nbformat": 4,
 "nbformat_minor": 2
}
