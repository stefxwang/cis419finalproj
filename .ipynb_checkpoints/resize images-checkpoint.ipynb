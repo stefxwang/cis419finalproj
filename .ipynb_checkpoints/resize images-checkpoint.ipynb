{
 "cells": [
  {
   "cell_type": "code",
   "execution_count": 5,
   "metadata": {},
   "outputs": [],
   "source": [
    "from PIL import Image\n",
    "import json"
   ]
  },
  {
   "cell_type": "code",
   "execution_count": 21,
   "metadata": {},
   "outputs": [],
   "source": [
    "data = json.load(open('modified_Data.json'))[\"data\"]\n",
    "resizeTo = (256,256)\n",
    "for i in range(len(imageFiles)):\n",
    "    if 'full_picture' in data[i]:\n",
    "        filename = data[i]['id'] + '.jpg'\n",
    "        img = Image.open('Raw Pics/' + filename)\n",
    "        img = img.resize(resizeTo, Image.ANTIALIAS)\n",
    "        img.save(('Resized Pics 256x256/' + filename), \"TIFF\")"
   ]
  },
  {
   "cell_type": "code",
   "execution_count": null,
   "metadata": {},
   "outputs": [],
   "source": []
  },
  {
   "cell_type": "code",
   "execution_count": null,
   "metadata": {
    "collapsed": true
   },
   "outputs": [],
   "source": []
  }
 ],
 "metadata": {
  "kernelspec": {
   "display_name": "Python 2",
   "language": "python",
   "name": "python2"
  },
  "language_info": {
   "codemirror_mode": {
    "name": "ipython",
    "version": 2
   },
   "file_extension": ".py",
   "mimetype": "text/x-python",
   "name": "python",
   "nbconvert_exporter": "python",
   "pygments_lexer": "ipython2",
   "version": "2.7.13"
  }
 },
 "nbformat": 4,
 "nbformat_minor": 2
}
