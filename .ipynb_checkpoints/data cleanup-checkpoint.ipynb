{
 "cells": [
  {
   "cell_type": "code",
   "execution_count": 11,
   "metadata": {},
   "outputs": [],
   "source": [
    "import json\n",
    "import datetime\n",
    "import urllib2\n",
    "import pprint"
   ]
  },
  {
   "cell_type": "code",
   "execution_count": 5,
   "metadata": {},
   "outputs": [],
   "source": [
    "data = json.load(open('Raw Data/merged_raw_data.json'))"
   ]
  },
  {
   "cell_type": "code",
   "execution_count": 6,
   "metadata": {},
   "outputs": [],
   "source": [
    "for i in range(len(data[\"data\"])) :\n",
    "    '''replacing likes summary with likes number'''\n",
    "    data[\"data\"][i][\"likes\"] = data[\"data\"][i][\"likes\"][\"summary\"][\"total_count\"]\n",
    "    '''changing date time to day of week, monday 0 to sunday 6'''\n",
    "    data[\"data\"][i][\"dayofweek\"] = datetime.datetime.strptime(data[\"data\"][i][\"created_time\"], '%Y-%m-%dT%H:%M:%S+0000').weekday()\n",
    "    '''changing created time to ordinal time'''\n",
    "    data[\"data\"][i][\"created_time\"] = datetime.datetime.strptime(data[\"data\"][i][\"created_time\"], '%Y-%m-%dT%H:%M:%S+0000').toordinal()"
   ]
  },
  {
   "cell_type": "code",
   "execution_count": 18,
   "metadata": {},
   "outputs": [],
   "source": [
    "with open('modified_Data.json', 'wb') as jsonoutput:\n",
    "    json.dump(data, jsonoutput)"
   ]
  },
  {
   "cell_type": "code",
   "execution_count": 9,
   "metadata": {},
   "outputs": [
    {
     "data": {
      "text/plain": [
       "3174"
      ]
     },
     "execution_count": 9,
     "metadata": {},
     "output_type": "execute_result"
    }
   ],
   "source": []
  },
  {
   "cell_type": "code",
   "execution_count": null,
   "metadata": {
    "collapsed": true
   },
   "outputs": [],
   "source": [
    "''' code for getting pics\n",
    "\n",
    "picFilepath = 'Raw Pics/'\n",
    "if 'full_picture' in data[\"data\"][i] :\n",
    "        filename = data[\"data\"][i]['id'] + '.jpg'\n",
    "        with open(picFilepath + filename, 'wb') as f :\n",
    "            request = urllib2.Request(data[\"data\"][i]['full_picture'])\n",
    "            pic = urllib2.urlopen(request)\n",
    "            f.write(pic.read())\n",
    "            data[\"data\"][i]['picFileName'] = filename\n",
    "'''"
   ]
  }
 ],
 "metadata": {
  "kernelspec": {
   "display_name": "Python 2",
   "language": "python",
   "name": "python2"
  },
  "language_info": {
   "codemirror_mode": {
    "name": "ipython",
    "version": 2
   },
   "file_extension": ".py",
   "mimetype": "text/x-python",
   "name": "python",
   "nbconvert_exporter": "python",
   "pygments_lexer": "ipython2",
   "version": "2.7.13"
  }
 },
 "nbformat": 4,
 "nbformat_minor": 2
}
